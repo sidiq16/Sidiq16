{
 "cells": [
  {
   "cell_type": "markdown",
   "metadata": {},
   "source": [
    "## Soal 1"
   ]
  },
  {
   "cell_type": "code",
   "execution_count": 14,
   "metadata": {},
   "outputs": [
    {
     "name": "stdout",
     "output_type": "stream",
     "text": [
      "Masukan Nama : Sidiq\n",
      "Masukan umur : 17\n",
      "Masukan tinggi badan : 163.1234\n",
      "Nama saya Sidiq , umur saya 17 tahun, dan tinggi saya 163.1234 cm\n"
     ]
    }
   ],
   "source": [
    "nama = str(input(\"Masukan Nama : \"))\n",
    "Umur = int(input(\"Masukan umur : \")) # 17 tapi boong\n",
    "Tinggi = float(input(\"Masukan tinggi badan : \"))\n",
    "\n",
    "\n",
    "print(\"Nama saya \" + nama + \" , umur saya \" + f'{Umur}' + \" tahun, dan tinggi saya \" + f'{Tinggi}'  + \" cm\")"
   ]
  },
  {
   "cell_type": "code",
   "execution_count": 15,
   "metadata": {},
   "outputs": [
    {
     "name": "stdout",
     "output_type": "stream",
     "text": [
      "<class 'str'>\n",
      "<class 'int'>\n",
      "<class 'float'>\n"
     ]
    }
   ],
   "source": [
    "print(type(nama))\n",
    "print(type(Umur))\n",
    "print(type(Tinggi))"
   ]
  },
  {
   "cell_type": "markdown",
   "metadata": {},
   "source": [
    "## Soal 2"
   ]
  },
  {
   "cell_type": "code",
   "execution_count": 23,
   "metadata": {},
   "outputs": [
    {
     "name": "stdout",
     "output_type": "stream",
     "text": [
      "Masukan Jari-jari Lingkaran : 7\n",
      "Luas lingkar dengan jari :7.0cm, adalah luas lingkaran : 154.0cm²\n"
     ]
    }
   ],
   "source": [
    "r = float(input(\"Masukan Jari-jari Lingkaran : \"))\n",
    "luas_lingkaran = round((22/7)*(r*r),2)\n",
    "print(\"Luas lingkar dengan jari :\" + f'{r}' + \"cm, adalah luas lingkaran :\", f'{luas_lingkaran}' + \"cm\\u00b2\")\n",
    "\n",
    "    "
   ]
  },
  {
   "cell_type": "code",
   "execution_count": 24,
   "metadata": {},
   "outputs": [
    {
     "name": "stdout",
     "output_type": "stream",
     "text": [
      "Masukan Jari-jari Lingkaran : 10\n",
      "Luas lingkar dengan jari :10.0cm, adalah luas lingkaran : 314.29cm²\n"
     ]
    }
   ],
   "source": [
    "r = float(input(\"Masukan Jari-jari Lingkaran : \"))\n",
    "luas_lingkaran = round((22/7)*(r*r),2)\n",
    "print(\"Luas lingkar dengan jari :\" + f'{r}' + \"cm, adalah luas lingkaran :\", f'{luas_lingkaran}' + \"cm\\u00b2\")\n"
   ]
  },
  {
   "cell_type": "markdown",
   "metadata": {},
   "source": [
    "## Soal 3"
   ]
  },
  {
   "cell_type": "code",
   "execution_count": 26,
   "metadata": {},
   "outputs": [
    {
     "name": "stdout",
     "output_type": "stream",
     "text": [
      "Nilai Ujian Teori : 60\n",
      "Nilai Ujian Praktek : 60\n",
      "Anda harus mengulangi ujian teori dan praktek\n"
     ]
    }
   ],
   "source": [
    "ujian_teori = float(input(\"Nilai Ujian Teori : \"))\n",
    "ujian_praktek = float(input(\"Nilai Ujian Praktek : \"))\n",
    "\n",
    "if ujian_teori >= 70 and  ujian_praktek >=70:\n",
    "    print(\"Selamat anda lulus\")\n",
    "elif ujian_teori >= 70 and  ujian_praktek <=70:\n",
    "    print(\"Anda harus mengulangi ujian praktek\")\n",
    "elif ujian_teori <= 70 and  ujian_praktek >=70:\n",
    "    print(\"Anda harus mengulangi ujian teori\")\n",
    "else:\n",
    "    print(\"Anda harus mengulangi ujian teori dan praktek\")\n"
   ]
  },
  {
   "cell_type": "code",
   "execution_count": 39,
   "metadata": {},
   "outputs": [
    {
     "name": "stdout",
     "output_type": "stream",
     "text": [
      "Masukkan Jumlah Piramida Segitiga :3\n",
      "     \n",
      "    *\n",
      "   **\n",
      "  ***\n"
     ]
    }
   ],
   "source": [
    "no = -1\n",
    "deret = int(input(\"Masukkan Jumlah Piramida Segitiga :\"))\n",
    "for x in range(-1,deret):\n",
    "    no = no + 1\n",
    "    print(\" \" *(deret - x),\"*\" *no)\n",
    "    "
   ]
  },
  {
   "cell_type": "code",
   "execution_count": null,
   "metadata": {},
   "outputs": [],
   "source": []
  },
  {
   "cell_type": "code",
   "execution_count": null,
   "metadata": {},
   "outputs": [],
   "source": []
  }
 ],
 "metadata": {
  "kernelspec": {
   "display_name": "Python 3",
   "language": "python",
   "name": "python3"
  },
  "language_info": {
   "codemirror_mode": {
    "name": "ipython",
    "version": 3
   },
   "file_extension": ".py",
   "mimetype": "text/x-python",
   "name": "python",
   "nbconvert_exporter": "python",
   "pygments_lexer": "ipython3",
   "version": "3.8.3"
  }
 },
 "nbformat": 4,
 "nbformat_minor": 4
}
